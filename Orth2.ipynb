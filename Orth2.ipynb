{
 "cells": [
  {
   "source": [
    "# Задание по лекциям 2.\n",
    "\n",
    "- Не нужно использовать эффективные вычислительные алгоритмы. Нужно использовать те алгоритмы, что были представлены на лекции или практических занятиях. \n",
    "- Остальное как обычно: за \"похожие\" решения всем задействованным 0 баллов; если используете решение из открытого источника — обязательно вставьте ссылку; не удаляйте формулировки; не выкладывайте в открытый источник.\n",
    "- Можно использовать `numpy.array` для матриц и матричной арифметики и `numpy.linalg` для подсчёта ранга и определителя, для вычисления обратной матрицы, решения СЛУ и т.п. То есть то, что вы уже реализовывали в прошлом семестре, ещё раз реализовывать необязательно. Более того, можно использовать в любом из *заданий по лекциям* функции, реализованные ранее в других *заданиях по лекциям*. Если возникнут сомнения, можно ли использовать ту или иную функцию — лучше сразу поинтересуйтесь у меня."
   ],
   "cell_type": "markdown",
   "metadata": {}
  },
  {
   "cell_type": "code",
   "execution_count": 2,
   "metadata": {},
   "outputs": [],
   "source": [
    "import numpy as np\n",
    "import scipy.optimize\n",
    "import scipy.linalg\n",
    "from sympy import Matrix"
   ]
  },
  {
   "cell_type": "code",
   "execution_count": 3,
   "metadata": {},
   "outputs": [],
   "source": [
    "# https://stackoverflow.com/questions/15638650/is-there-a-standard-solution-for-gauss-elimination-in-python\n",
    "def gauss(A):\n",
    "    \"\"\"\n",
    "    Метод Гаусса\n",
    "    \"\"\"\n",
    "    pl, u = scipy.linalg.lu(A, permute_l=True)\n",
    "    return scipy.optimize._remove_redundancy._remove_redundancy(u, np.zeros_like(u[:, 0]))[0]"
   ]
  },
  {
   "cell_type": "code",
   "execution_count": 4,
   "metadata": {},
   "outputs": [],
   "source": [
    "def make_good(v):\n",
    "    \"\"\"\n",
    "    Делит все значения вектора на первое ненулевое значение\n",
    "    \"\"\"\n",
    "    for i, e in enumerate(v):\n",
    "        if abs(e) > 1e-10:\n",
    "            return v / e\n",
    "\n",
    "def make_world_better(A):\n",
    "    \"\"\"\n",
    "    Проходится по массиву векторов и делит каждый из них на первое ненулевое значение, чтобы сделать значения красивее\n",
    "    \"\"\"\n",
    "    new = []\n",
    "    for i in range(A.shape[0]):\n",
    "        new.append(make_good(A[i]))\n",
    "    return np.array(new)\n",
    "\n",
    "def fsr(A):\n",
    "    \"\"\"\n",
    "    Поиск фундаментальной системы решений СЛУ\n",
    "    \"\"\"\n",
    "    bad_fsr = scipy.linalg.null_space(A).T\n",
    "    return bad_fsr"
   ]
  },
  {
   "source": [
    "$\\mathbb{R}^n$ — вещественнозначное пространство вектор-**столбцов** со стандартным скалярным произведением."
   ],
   "cell_type": "markdown",
   "metadata": {}
  },
  {
   "source": [
    "**(1 балл) Задание 5.** Реализовать функцию, принимающую на вход набор координат $u = (u_1,\\ldots,u_k),\\ k\\le n$ вектор-столбцов, и выдающую базис $$v = (v_1,\\ldots,v_m),\\ m \\ge n-k,$$\n",
    "ортогонального дополнения  для линейной оболочки данных векторов."
   ],
   "cell_type": "markdown",
   "metadata": {}
  },
  {
   "cell_type": "code",
   "execution_count": 57,
   "metadata": {},
   "outputs": [],
   "source": [
    "def concat_orth_basis(U):\n",
    "    \"\"\"\n",
    "    Дополняет до базиса всего пространства (используется в последнем задании)\n",
    "    \"\"\"\n",
    "    # применяем гаусса к векторам U, чтобы выбрать из них линейно независимые\n",
    "    U = gauss(U)\n",
    "    # решим систему уравнений (u_1, x) = 0, ..., (u_k, x) = 0 (найдем фср)\n",
    "    V = fsr(U)\n",
    "    # вектора x_1, ..., x_p - фср - векторы базиса искомого орт.дополнения\n",
    "    return np.concatenate([U,V])\n",
    "\n",
    "def orth_basis(U):\n",
    "    \"\"\"\n",
    "    Решение - выдает базис ортогонального дополнения\n",
    "    \"\"\"\n",
    "    # применяем гаусса к векторам U, чтобы выбрать из них линейно независимые\n",
    "    U = gauss(U)\n",
    "    # решим систему уравнений (u_1, x) = 0, ..., (u_k, x) = 0 (найдем фср)\n",
    "    V = fsr(U)\n",
    "    # вектора x_1, ..., x_p - фср - векторы базиса искомого орт.дополнения\n",
    "    return V"
   ]
  },
  {
   "cell_type": "code",
   "execution_count": 64,
   "metadata": {},
   "outputs": [
    {
     "output_type": "execute_result",
     "data": {
      "text/plain": [
       "array([[ 1., -1.]])"
      ]
     },
     "metadata": {},
     "execution_count": 64
    }
   ],
   "source": [
    "U = np.array([\n",
    "    [1, 1]\n",
    "])\n",
    "\n",
    "ob = orth_basis(U)\n",
    "make_world_better(ob)"
   ]
  },
  {
   "cell_type": "code",
   "execution_count": 65,
   "metadata": {},
   "outputs": [
    {
     "output_type": "execute_result",
     "data": {
      "text/plain": [
       "1.1102230246251565e-16"
      ]
     },
     "metadata": {},
     "execution_count": 65
    }
   ],
   "source": [
    "ob[0].dot(U[0])"
   ]
  },
  {
   "source": [
    "**(1 балл) Задание 6.** Реализовать функцию, принимающую на вход набор координат $u = (u_1,\\ldots,u_k),\\ k\\le n$ вектор-столбцов, и выдающую ортонормированный базис $$v = (v_1,\\ldots,v_m),\\ m \\ge n-k,$$\n",
    "для линейной оболочки данных векторов."
   ],
   "cell_type": "markdown",
   "metadata": {}
  },
  {
   "cell_type": "code",
   "execution_count": 60,
   "metadata": {},
   "outputs": [],
   "source": [
    "# https://gist.github.com/iizukak/1287876\n",
    "\n",
    "def gs_cofficient(v1, v2):\n",
    "    return np.dot(v2, v1) / np.dot(v1, v1)\n",
    "\n",
    "def multiply(cofficient, v):\n",
    "    return map((lambda x : x * cofficient), v)\n",
    "\n",
    "def proj(v1, v2):\n",
    "    return multiply(gs_cofficient(v1, v2) , v1)\n",
    "\n",
    "# Грамм-шмидт\n",
    "def gs(X):\n",
    "    X = gauss(X) # проходимся Гауссом, чтобы исключить линейно зависимые вектора\n",
    "    Y = []\n",
    "    for i in range(len(X)):\n",
    "        temp_vec = X[i]\n",
    "        for inY in Y :\n",
    "            proj_vec = proj(inY, X[i])\n",
    "            temp_vec = np.array(list(map(lambda x, y : x - y, temp_vec, proj_vec)))\n",
    "        Y.append(temp_vec)\n",
    "    for i, e in enumerate(Y):\n",
    "        Y[i] = Y[i] * 1.0 / np.linalg.norm(Y[i])\n",
    "    return np.array(Y)"
   ]
  },
  {
   "cell_type": "code",
   "execution_count": 61,
   "metadata": {},
   "outputs": [
    {
     "output_type": "execute_result",
     "data": {
      "text/plain": [
       "array([[ 0.70710678,  0.70710678],\n",
       "       [ 0.70710678, -0.70710678]])"
      ]
     },
     "metadata": {},
     "execution_count": 61
    }
   ],
   "source": [
    "gs(np.array([\n",
    "    [1,1],\n",
    "    [1,0],\n",
    "    [1,1]\n",
    "]))"
   ]
  },
  {
   "source": [
    "**(1 балл) Задание 7.** Реализовать функцию, принимающую на вход набор координат $u = (u_1,\\ldots,u_k),\\ k\\le n$ линейно независимых вектор-столбцов, и выдающую ортонормированный базис $$v = (v_1,\\ldots,v_n)$$\n",
    "всего пространства, такой что линейная оболочка векторов $(v_1,\\ldots,v_k)$ совпадает с линейной оболочкой векторов $(u_1,\\ldots,u_k)$."
   ],
   "cell_type": "markdown",
   "metadata": {}
  },
  {
   "cell_type": "code",
   "execution_count": 62,
   "metadata": {},
   "outputs": [],
   "source": [
    "def make_othonorm_basis(U):\n",
    "    \"\"\"\n",
    "    U - массив векторов (строки - вектора)\n",
    "    \"\"\"\n",
    "    # Ортогонализуем и нормируем полученный набор векторов\n",
    "    U = gs(U)\n",
    "    # Дополняем его до базиса всего пространства\n",
    "    U = make_world_better(concat_orth_basis(U))\n",
    "    # Опять ортонормируем полученную систему\n",
    "    U = gs(U)\n",
    "    return U"
   ]
  },
  {
   "cell_type": "code",
   "execution_count": null,
   "metadata": {},
   "outputs": [],
   "source": []
  }
 ],
 "metadata": {
  "celltoolbar": "Create Assignment",
  "kernelspec": {
   "display_name": "Python 3",
   "language": "python",
   "name": "python3"
  },
  "language_info": {
   "codemirror_mode": {
    "name": "ipython",
    "version": 3
   },
   "file_extension": ".py",
   "mimetype": "text/x-python",
   "name": "python",
   "nbconvert_exporter": "python",
   "pygments_lexer": "ipython3",
   "version": "3.8.5-final"
  },
  "toc": {
   "base_numbering": 1,
   "nav_menu": {},
   "number_sections": true,
   "sideBar": true,
   "skip_h1_title": false,
   "title_cell": "Table of Contents",
   "title_sidebar": "Contents",
   "toc_cell": false,
   "toc_position": {},
   "toc_section_display": true,
   "toc_window_display": false
  }
 },
 "nbformat": 4,
 "nbformat_minor": 4
}