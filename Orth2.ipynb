{
 "cells": [
  {
   "source": [
    "# Задание по лекциям 2.\n",
    "\n",
    "- Не нужно использовать эффективные вычислительные алгоритмы. Нужно использовать те алгоритмы, что были представлены на лекции или практических занятиях. \n",
    "- Остальное как обычно: за \"похожие\" решения всем задействованным 0 баллов; если используете решение из открытого источника — обязательно вставьте ссылку; не удаляйте формулировки; не выкладывайте в открытый источник.\n",
    "- Можно использовать `numpy.array` для матриц и матричной арифметики и `numpy.linalg` для подсчёта ранга и определителя, для вычисления обратной матрицы, решения СЛУ и т.п. То есть то, что вы уже реализовывали в прошлом семестре, ещё раз реализовывать необязательно. Более того, можно использовать в любом из *заданий по лекциям* функции, реализованные ранее в других *заданиях по лекциям*. Если возникнут сомнения, можно ли использовать ту или иную функцию — лучше сразу поинтересуйтесь у меня."
   ],
   "cell_type": "markdown",
   "metadata": {}
  },
  {
   "cell_type": "code",
   "execution_count": 1,
   "metadata": {},
   "outputs": [],
   "source": [
    "import numpy as np\n",
    "import scipy.optimize\n",
    "import scipy.linalg"
   ]
  },
  {
   "cell_type": "code",
   "execution_count": 2,
   "metadata": {},
   "outputs": [],
   "source": [
    "# https://stackoverflow.com/questions/15638650/is-there-a-standard-solution-for-gauss-elimination-in-python\n",
    "def gauss(A):\n",
    "    pl, u = scipy.linalg.lu(A, permute_l=True)\n",
    "    return scipy.optimize._remove_redundancy._remove_redundancy(u, np.zeros_like(u[:, 0]))[0]"
   ]
  },
  {
   "cell_type": "code",
   "execution_count": 33,
   "metadata": {},
   "outputs": [],
   "source": [
    "def make_good(v):\n",
    "    for i, e in enumerate(v):\n",
    "        if abs(e) > 1e-10:\n",
    "            return v / e\n",
    "\n",
    "def make_world_better(A):\n",
    "    new = []\n",
    "    for i in range(A.shape[0]):\n",
    "        new.append(make_good(A[i]))\n",
    "    return np.array(new)\n",
    "\n",
    "def fsr(A):\n",
    "    bad_fsr = scipy.linalg.null_space(A).T\n",
    "    return bad_fsr"
   ]
  },
  {
   "source": [
    "$\\mathbb{R}^n$ — вещественнозначное пространство вектор-**столбцов** со стандартным скалярным произведением."
   ],
   "cell_type": "markdown",
   "metadata": {}
  },
  {
   "source": [
    "**(1 балл) Задание 5.** Реализовать функцию, принимающую на вход набор координат $u = (u_1,\\ldots,u_k),\\ k\\le n$ вектор-столбцов, и выдающую базис $$v = (v_1,\\ldots,v_m),\\ m \\ge n-k,$$\n",
    "ортогонального дополнения  для линейной оболочки данных векторов."
   ],
   "cell_type": "markdown",
   "metadata": {}
  },
  {
   "cell_type": "code",
   "execution_count": 34,
   "metadata": {},
   "outputs": [],
   "source": [
    "def orth_basis(U):\n",
    "    # применяем гаусса к векторам U, чтобы выбрать из них линейно независимые\n",
    "    U = gauss(U)\n",
    "    # решим систему уравнений (u_1, x) = 0, ..., (u_k, x) = 0 (найдем фср)\n",
    "    V = fsr(U)\n",
    "    # вектора x_1, ..., x_p - фср - векторы базиса искомого орт.дополнения\n",
    "    return V"
   ]
  },
  {
   "cell_type": "code",
   "execution_count": 35,
   "metadata": {},
   "outputs": [
    {
     "output_type": "execute_result",
     "data": {
      "text/plain": [
       "array([[ 1.        , -1.59404913, -1.53134971,  0.40595087],\n",
       "       [ 0.        ,  1.        ,  0.33333333,  1.        ]])"
      ]
     },
     "metadata": {},
     "execution_count": 35
    }
   ],
   "source": [
    "U = np.array([\n",
    "    [1, -2, 3, 1],\n",
    "    [2, 1, 0, -1],\n",
    "    [3, -1, 3, 0]\n",
    "])\n",
    "\n",
    "make_world_better(gauss(orth_basis(U)))"
   ]
  },
  {
   "source": [
    "**(1 балл) Задание 6.** Реализовать функцию, принимающую на вход набор координат $u = (u_1,\\ldots,u_k),\\ k\\le n$ вектор-столбцов, и выдающую ортонормированный базис $$v = (v_1,\\ldots,v_m),\\ m \\ge n-k,$$\n",
    "для линейной оболочки данных векторов."
   ],
   "cell_type": "markdown",
   "metadata": {}
  },
  {
   "cell_type": "code",
   "execution_count": 36,
   "metadata": {},
   "outputs": [],
   "source": [
    "def gs(X):\n",
    "    Q, _ = np.linalg.qr(X) # Как сказали Владу, это можно использовать\n",
    "    return Q.T"
   ]
  },
  {
   "cell_type": "code",
   "execution_count": 38,
   "metadata": {},
   "outputs": [
    {
     "output_type": "execute_result",
     "data": {
      "text/plain": [
       "array([[ 1.,  1.],\n",
       "       [ 1., -1.]])"
      ]
     },
     "metadata": {},
     "execution_count": 38
    }
   ],
   "source": [
    "make_world_better(gs(np.array([\n",
    "    [1,1],\n",
    "    [1,0]\n",
    "])))"
   ]
  },
  {
   "source": [
    "**(1 балл) Задание 7.** Реализовать функцию, принимающую на вход набор координат $u = (u_1,\\ldots,u_k),\\ k\\le n$ линейно независимых вектор-столбцов, и выдающую ортонормированный базис $$v = (v_1,\\ldots,v_n)$$\n",
    "всего пространства, такой что линейная оболочка векторов $(v_1,\\ldots,v_k)$ совпадает с линейной оболочкой векторов $(u_1,\\ldots,u_k)$."
   ],
   "cell_type": "markdown",
   "metadata": {}
  },
  {
   "cell_type": "code",
   "execution_count": null,
   "metadata": {},
   "outputs": [],
   "source": []
  }
 ],
 "metadata": {
  "celltoolbar": "Create Assignment",
  "kernelspec": {
   "display_name": "Python 3",
   "language": "python",
   "name": "python3"
  },
  "language_info": {
   "codemirror_mode": {
    "name": "ipython",
    "version": 3
   },
   "file_extension": ".py",
   "mimetype": "text/x-python",
   "name": "python",
   "nbconvert_exporter": "python",
   "pygments_lexer": "ipython3",
   "version": "3.8.5-final"
  },
  "toc": {
   "base_numbering": 1,
   "nav_menu": {},
   "number_sections": true,
   "sideBar": true,
   "skip_h1_title": false,
   "title_cell": "Table of Contents",
   "title_sidebar": "Contents",
   "toc_cell": false,
   "toc_position": {},
   "toc_section_display": true,
   "toc_window_display": false
  }
 },
 "nbformat": 4,
 "nbformat_minor": 4
}