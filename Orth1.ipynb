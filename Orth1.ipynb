{
 "cells": [
  {
   "source": [
    "# Задание по лекциям 1.\n",
    "\n",
    "- Не нужно использовать эффективные вычислительные алгоритмы. Нужно использовать те алгоритмы, что были представлены на лекции или практических занятиях. \n",
    "- Остальное как обычно: за \"похожие\" решения всем задействованным 0 баллов; если используете решение из открытого источника — обязательно вставьте ссылку; не удаляйте формулировки; не выкладывайте в открытый источник.\n",
    "- Можно использовать `numpy.array` для матриц и матричной арифметики и `numpy.linalg` для подсчёта ранга и определителя, для вычисления обратной матрицы, решения СЛУ и т.п. То есть то, что вы уже реализовывали в прошлом семестре, ещё раз реализовывать необязательно. Более того, можно использовать в любом из *заданий по лекциям* функции, реализованные ранее в других *заданиях по лекциям*. Если возникнут сомнения, можно ли использовать ту или иную функцию — лучше сразу поинтересуйтесь у меня."
   ],
   "cell_type": "markdown",
   "metadata": {}
  },
  {
   "source": [
    "$\\mathbb{R}^n$ — вещественнозначное пространство вектор-**столбцов**."
   ],
   "cell_type": "markdown",
   "metadata": {}
  },
  {
   "cell_type": "code",
   "execution_count": 1,
   "metadata": {},
   "outputs": [],
   "source": [
    "import numpy as np\n",
    "import scipy.optimize\n",
    "import scipy.linalg"
   ]
  },
  {
   "cell_type": "code",
   "execution_count": 2,
   "metadata": {},
   "outputs": [],
   "source": [
    "# https://stackoverflow.com/questions/15638650/is-there-a-standard-solution-for-gauss-elimination-in-python\n",
    "def gauss(A):\n",
    "    pl, u = scipy.linalg.lu(A, permute_l=True)\n",
    "    return scipy.optimize._remove_redundancy._remove_redundancy(u, np.zeros_like(u[:, 0]))[0]"
   ]
  },
  {
   "cell_type": "code",
   "execution_count": 3,
   "metadata": {},
   "outputs": [
    {
     "output_type": "execute_result",
     "data": {
      "text/plain": [
       "array([[1., 0., 0., 0.],\n",
       "       [0., 4., 1., 0.],\n",
       "       [0., 0., 1., 0.]])"
      ]
     },
     "metadata": {},
     "execution_count": 3
    }
   ],
   "source": [
    "gauss(np.array([[1,0,0,0],[0,1,0,0],[0,0,1,0],[1,4,1,0]]))"
   ]
  },
  {
   "cell_type": "code",
   "execution_count": 21,
   "metadata": {},
   "outputs": [
    {
     "output_type": "execute_result",
     "data": {
      "text/plain": [
       "array([[-3.        , -4.        , -1.        , -2.        ],\n",
       "       [ 0.        ,  1.66666667,  1.66666667,  0.33333333]])"
      ]
     },
     "metadata": {},
     "execution_count": 21
    }
   ],
   "source": [
    "gauss(np.array([[2,0,1,-3],[1,0,3,-4],[-1,0,2,-1],[1,0,1,-2]]).T)"
   ]
  },
  {
   "cell_type": "code",
   "execution_count": 4,
   "metadata": {},
   "outputs": [],
   "source": [
    "def make_good(v):\n",
    "    for i,e in enumerate(v):\n",
    "        if abs(e) > 1e-10:\n",
    "            return v / e\n",
    "\n",
    "def fsr(A):\n",
    "    bad_fsr = scipy.linalg.null_space(A)\n",
    "    new_fsr = []\n",
    "    for i in range(len(bad_fsr[0])):\n",
    "        new_fsr.append(make_good(bad_fsr[:,i]))\n",
    "    return np.array(new_fsr)"
   ]
  },
  {
   "cell_type": "code",
   "execution_count": 5,
   "metadata": {},
   "outputs": [],
   "source": [
    "ok = fsr(np.array([[1,1,1],[1,1,1],[1,1,1]]))"
   ]
  },
  {
   "cell_type": "code",
   "execution_count": 6,
   "metadata": {},
   "outputs": [
    {
     "output_type": "execute_result",
     "data": {
      "text/plain": [
       "array([[ 1. , -0.5, -0.5],\n",
       "       [-0. ,  1. , -1. ]])"
      ]
     },
     "metadata": {},
     "execution_count": 6
    }
   ],
   "source": [
    "ok"
   ]
  },
  {
   "cell_type": "code",
   "execution_count": null,
   "metadata": {},
   "outputs": [],
   "source": []
  },
  {
   "source": [
    "**(1 балл) Задание 1.** Реализовать функцию, принимающую на вход два набора \n",
    "$$\n",
    "u = (u_1, \\ldots, u_n),\\ v = (v_1,\\ldots,v_n)\n",
    "$$\n",
    "координат векторов (в стандартном базисе) из пространства $\\mathbb{R}^n$, и выдающую \n",
    "- матрицу перехода от базиса $u$ к базису $v$, если оба этих набора являются базисами;\n",
    "- None, иначе (альтернативный вариант — кидать исключение)."
   ],
   "cell_type": "markdown",
   "metadata": {}
  },
  {
   "cell_type": "code",
   "execution_count": 7,
   "metadata": {},
   "outputs": [],
   "source": [
    "def m_perex(U, V):\n",
    "    if len(gauss(U)) < len(U) or len(gauss(L)) < len(L):\n",
    "        return None\n",
    "    try:\n",
    "        T_tr = []\n",
    "        for vec in V:\n",
    "            T_tr.append(np.linalg.solve(U.T, vec))\n",
    "        return np.array(T_tr).T\n",
    "    except Exception as e:\n",
    "        return None"
   ]
  },
  {
   "cell_type": "code",
   "execution_count": 8,
   "metadata": {},
   "outputs": [
    {
     "output_type": "execute_result",
     "data": {
      "text/plain": [
       "array([[14., -2.],\n",
       "       [-5.,  2.]])"
      ]
     },
     "metadata": {},
     "execution_count": 8
    }
   ],
   "source": [
    "U = np.array([[1,2],[3,5]])\n",
    "L = np.array([[-1,3], [4,6]])\n",
    "m_perex(U,L)"
   ]
  },
  {
   "source": [
    "**(1 балл) Задание 2.** Реализовать функцию, принимающую на вход матрицу $A$ линейного оператора $\\varphi: \\mathbb{R}^n \\to \\mathbb{R}^n$ (в стандартном базисе) и набор координат $u = (u_1,\\ldots,u_n)$ вектор-столбцов, и выдающую \n",
    "- матрицу оператора $\\varphi$ в базисе $u$, если $u$ является базисом;\n",
    "- None, иначе (альтернативный вариант — кидать исключение)."
   ],
   "cell_type": "markdown",
   "metadata": {}
  },
  {
   "cell_type": "code",
   "execution_count": 9,
   "metadata": {},
   "outputs": [],
   "source": [
    "def phi_in_strange_basis(phi, U):\n",
    "    E = np.eye(len(phi))\n",
    "    if len(gauss(U)) < len(U):\n",
    "        return None\n",
    "    Teu = m_perex(E, U)\n",
    "    print(Teu)\n",
    "    return np.linalg.inv(Teu).dot(phi).dot(Teu)"
   ]
  },
  {
   "cell_type": "code",
   "execution_count": null,
   "metadata": {},
   "outputs": [],
   "source": []
  },
  {
   "source": [
    "**(1.5 балла) Задание 3.** Реализовать функции, которые по данной матрице $A$ линейного оператора $\\varphi: \\mathbb{R}^n \\to \\mathbb{R}^n$ в стандартном базисе, выдадут:\n",
    "\n",
    "- базис образа $\\varphi$ (0.5 балла)\n",
    "- базис ядра $\\varphi$ (0.75 балла)\n",
    "- размерности ядра и образа $\\varphi$ (0.25 балла)"
   ],
   "cell_type": "markdown",
   "metadata": {}
  },
  {
   "cell_type": "code",
   "execution_count": 10,
   "metadata": {},
   "outputs": [],
   "source": [
    "def phi_basis(A):\n",
    "    return gauss(A.T)\n",
    "\n",
    "def ker(A):\n",
    "    return fsr(A)\n",
    "\n",
    "def phi_basis_rank(A):\n",
    "    return len(phi_basis(A))\n",
    "\n",
    "def ker_rank(A):\n",
    "    return len(ker(A))"
   ]
  },
  {
   "cell_type": "code",
   "execution_count": 18,
   "metadata": {},
   "outputs": [
    {
     "output_type": "execute_result",
     "data": {
      "text/plain": [
       "array([[ 1.        , -0.94575653,  1.        ,  1.        ],\n",
       "       [ 1.        ,  3.17206374,  1.        ,  1.        ]])"
      ]
     },
     "metadata": {},
     "execution_count": 18
    }
   ],
   "source": [
    "a = np.array([\n",
    "    [2,0,1,-3],\n",
    "    [1,0,3,-4],\n",
    "    [-1,0,2,-1],\n",
    "    [1,0,1,-2]\n",
    "    ])\n",
    "ker(a)"
   ]
  },
  {
   "cell_type": "code",
   "execution_count": 20,
   "metadata": {},
   "outputs": [
    {
     "output_type": "execute_result",
     "data": {
      "text/plain": [
       "array([[-3.        , -4.        , -1.        , -2.        ],\n",
       "       [ 0.        ,  1.66666667,  1.66666667,  0.33333333]])"
      ]
     },
     "metadata": {},
     "execution_count": 20
    }
   ],
   "source": [
    "phi_basis(np.array([\n",
    "    [2,0,1,-3],\n",
    "    [1,0,3,-4],\n",
    "    [-1,0,2,-1],\n",
    "    [1,0,1,-2]\n",
    "]))"
   ]
  },
  {
   "source": [
    "**(1 балл) Задание 4.** Реализовать функцию, принимающую на вход матрицу $A$ линейного оператора $\\varphi: \\mathbb{R}^n \\to \\mathbb{R}^n$ (в стандартном базисе) и набор координат $u = (u_1,\\ldots,u_k),\\ k\\le n$ вектор-столбцов, и выдающую \n",
    "- True, если линейная оболочка векторов $(u_1,\\ldots, u_k)$ является $\\varphi$-инвариантным подпространством.\n",
    "- False, иначе."
   ],
   "cell_type": "markdown",
   "metadata": {}
  },
  {
   "cell_type": "code",
   "execution_count": 13,
   "metadata": {},
   "outputs": [],
   "source": [
    "def is_phi_invariant(U, phi):\n",
    "    \"\"\"\n",
    "    U - массив векторов (строки - вектора)\n",
    "    phi - матрица преобразования (строки - строки)\n",
    "    \"\"\"\n",
    "    U = gauss(U)\n",
    "    tmp = phi.dot(U.T).T # строки - вектора вида Au_i (phi(u_i))\n",
    "    tmp = gauss(np.concatenate([U, tmp]))\n",
    "    print(tmp)\n",
    "    return tmp.shape[0] == U.shape[0]"
   ]
  },
  {
   "cell_type": "code",
   "execution_count": 17,
   "metadata": {},
   "outputs": [
    {
     "output_type": "stream",
     "name": "stdout",
     "text": [
      "[[ 2.  4.  6.]\n [ 0. -4. -6.]]\n"
     ]
    },
    {
     "output_type": "execute_result",
     "data": {
      "text/plain": [
       "True"
      ]
     },
     "metadata": {},
     "execution_count": 17
    }
   ],
   "source": [
    "A = np.array([[1, 0, 0],\n",
    "[0, 0, 0],\n",
    "[0, 0, 0]])\n",
    "\n",
    "U = np.array([[1, 2, 1],\n",
    "[2, 4, 0],\n",
    "[3, 6, 0]]).T\n",
    "\n",
    "# A = np.array([[1, 0, 0],\n",
    "# [1, 0, 0],\n",
    "# [1, 0, 0]])\n",
    "\n",
    "# U = np.array([[1, 1],\n",
    "# [0, 2],\n",
    "# [0, 3]]).T\n",
    "\n",
    "is_phi_invariant(U, A)"
   ]
  },
  {
   "cell_type": "code",
   "execution_count": null,
   "metadata": {},
   "outputs": [],
   "source": []
  }
 ],
 "metadata": {
  "celltoolbar": "Create Assignment",
  "kernelspec": {
   "display_name": "Python 3",
   "language": "python",
   "name": "python3"
  },
  "language_info": {
   "codemirror_mode": {
    "name": "ipython",
    "version": 3
   },
   "file_extension": ".py",
   "mimetype": "text/x-python",
   "name": "python",
   "nbconvert_exporter": "python",
   "pygments_lexer": "ipython3",
   "version": "3.8.5-final"
  },
  "toc": {
   "base_numbering": 1,
   "nav_menu": {},
   "number_sections": true,
   "sideBar": true,
   "skip_h1_title": false,
   "title_cell": "Table of Contents",
   "title_sidebar": "Contents",
   "toc_cell": false,
   "toc_position": {},
   "toc_section_display": true,
   "toc_window_display": false
  }
 },
 "nbformat": 4,
 "nbformat_minor": 4
}