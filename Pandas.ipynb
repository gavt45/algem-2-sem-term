{
 "cells": [
  {
   "cell_type": "markdown",
   "metadata": {},
   "source": [
    "## Знакомство с библиотеками для анализа данных. Pandas\n",
    "\n",
    "Результат лабораторной работы − отчет в формате ноутбука Jupyter (ipynb-файл). Постарайтесь сделать ваш отчет интересным рассказом, последовательно отвечающим на вопросы из заданий. Помимо ответов на вопросы, в отчете так же должен быть код, однако чем меньше кода, тем лучше всем: нам − меньше проверять, вам —  проще найти ошибку или дополнить эксперимент. При проверке оценивается четкость ответов на вопросы, аккуратность отчета и кода.\n",
    "\n",
    "### О задании\n",
    "\n",
    "Лабораторные работы \"NumPy\" и \"Pandas\" направлены на работу с пакетами NumPy, Pandas и Matplotlib путём решения набора задач (да, алгебры и геометрии тут почти нет). В данных заданиях разрешено пользоваться только стандартной библиотекой языка Python, а также пакетами NumPy, Pandas и Matplotlib. Целью заданий является редактирование данного jupyter notebook-a (в части блоков с кодом на python) таким образом, чтобы были реализованы указанные в заданиях функции.\n",
    "\n",
    "\n",
    "### Оценивание и штрафы\n",
    "\n",
    "* Каждая из задач имеет определенную «стоимость» (указана в скобках около задачи)\n",
    "* «Похожие» решения считаются плагиатом и все задействованные студенты (в том числе те, у кого списали) не могут получить за него больше 0 баллов\n",
    "* Если вы нашли решение какого-то из заданий в открытом источнике, необходимо добавить ссылку на этот источник (скорее всего вы будете не единственным, кто это нашел, поэтому чтобы исключить подозрение в плагиате, необходима ссылка на источник)\n",
    "* Не оцениваются задания с удалёнными формулировками\n",
    "* Не оценивается лабораторная работа целиком, если она была выложена в открытый источник\n",
    "\n",
    "###  Правила сдачи\n",
    "\n",
    "Работу необходимо сдавать, загрузив в свой приватный репозиторий и сообщив об этом в телеграм @xrzvs (или просто открыв доступ к ноутбуку в Google Colab; более подробную информацию смотрите в README.md). "
   ]
  },
  {
   "cell_type": "markdown",
   "metadata": {},
   "source": [
    "### Аналитика данных с [Pandas](https://pandas.pydata.org/) "
   ]
  },
  {
   "cell_type": "markdown",
   "metadata": {},
   "source": [
    "Загрузите таблицу с данными из [```articles.csv```](https://disk.yandex.ru/i/m4rxX9t3MGMrnQ). Удалите записи, в которых присутствуют пропуски."
   ]
  },
  {
   "cell_type": "code",
   "execution_count": 10,
   "metadata": {},
   "outputs": [],
   "source": [
    "import pandas as pd\n",
    "import numpy as np\n",
    "import datetime\n",
    "import seaborn as sns\n",
    "import matplotlib.pyplot as plt"
   ]
  },
  {
   "cell_type": "markdown",
   "metadata": {},
   "source": [
    "___"
   ]
  },
  {
   "cell_type": "code",
   "execution_count": 11,
   "metadata": {},
   "outputs": [],
   "source": [
    "tab = pd.read_csv('articles.xls', index_col='id')"
   ]
  },
  {
   "cell_type": "code",
   "execution_count": 12,
   "metadata": {},
   "outputs": [
    {
     "data": {
      "text/html": [
       "<div>\n",
       "<style scoped>\n",
       "    .dataframe tbody tr th:only-of-type {\n",
       "        vertical-align: middle;\n",
       "    }\n",
       "\n",
       "    .dataframe tbody tr th {\n",
       "        vertical-align: top;\n",
       "    }\n",
       "\n",
       "    .dataframe thead th {\n",
       "        text-align: right;\n",
       "    }\n",
       "</style>\n",
       "<table border=\"1\" class=\"dataframe\">\n",
       "  <thead>\n",
       "    <tr style=\"text-align: right;\">\n",
       "      <th></th>\n",
       "      <th>title</th>\n",
       "      <th>publication</th>\n",
       "      <th>author</th>\n",
       "      <th>date</th>\n",
       "      <th>year</th>\n",
       "      <th>month</th>\n",
       "      <th>content</th>\n",
       "    </tr>\n",
       "    <tr>\n",
       "      <th>id</th>\n",
       "      <th></th>\n",
       "      <th></th>\n",
       "      <th></th>\n",
       "      <th></th>\n",
       "      <th></th>\n",
       "      <th></th>\n",
       "      <th></th>\n",
       "    </tr>\n",
       "  </thead>\n",
       "  <tbody>\n",
       "    <tr>\n",
       "      <th>17283</th>\n",
       "      <td>House Republicans Fret About Winning Their Hea...</td>\n",
       "      <td>New York Times</td>\n",
       "      <td>Carl Hulse</td>\n",
       "      <td>2016-12-31</td>\n",
       "      <td>2016</td>\n",
       "      <td>12</td>\n",
       "      <td>WASHINGTON  —   Congressional Republicans have...</td>\n",
       "    </tr>\n",
       "    <tr>\n",
       "      <th>17284</th>\n",
       "      <td>Rift Between Officers and Residents as Killing...</td>\n",
       "      <td>New York Times</td>\n",
       "      <td>Benjamin Mueller and Al Baker</td>\n",
       "      <td>2017-06-19</td>\n",
       "      <td>2017</td>\n",
       "      <td>6</td>\n",
       "      <td>After the bullet shells get counted, the blood...</td>\n",
       "    </tr>\n",
       "    <tr>\n",
       "      <th>17285</th>\n",
       "      <td>Tyrus Wong, ‘Bambi’ Artist Thwarted by Racial ...</td>\n",
       "      <td>New York Times</td>\n",
       "      <td>Margalit Fox</td>\n",
       "      <td>2017-01-06</td>\n",
       "      <td>2017</td>\n",
       "      <td>1</td>\n",
       "      <td>When Walt Disney’s “Bambi” opened in 1942, cri...</td>\n",
       "    </tr>\n",
       "    <tr>\n",
       "      <th>17286</th>\n",
       "      <td>Among Deaths in 2016, a Heavy Toll in Pop Musi...</td>\n",
       "      <td>New York Times</td>\n",
       "      <td>William McDonald</td>\n",
       "      <td>2017-04-10</td>\n",
       "      <td>2017</td>\n",
       "      <td>4</td>\n",
       "      <td>Death may be the great equalizer, but it isn’t...</td>\n",
       "    </tr>\n",
       "    <tr>\n",
       "      <th>17287</th>\n",
       "      <td>Kim Jong-un Says North Korea Is Preparing to T...</td>\n",
       "      <td>New York Times</td>\n",
       "      <td>Choe Sang-Hun</td>\n",
       "      <td>2017-01-02</td>\n",
       "      <td>2017</td>\n",
       "      <td>1</td>\n",
       "      <td>SEOUL, South Korea  —   North Korea’s leader, ...</td>\n",
       "    </tr>\n",
       "  </tbody>\n",
       "</table>\n",
       "</div>"
      ],
      "text/plain": [
       "                                                   title     publication  \\\n",
       "id                                                                         \n",
       "17283  House Republicans Fret About Winning Their Hea...  New York Times   \n",
       "17284  Rift Between Officers and Residents as Killing...  New York Times   \n",
       "17285  Tyrus Wong, ‘Bambi’ Artist Thwarted by Racial ...  New York Times   \n",
       "17286  Among Deaths in 2016, a Heavy Toll in Pop Musi...  New York Times   \n",
       "17287  Kim Jong-un Says North Korea Is Preparing to T...  New York Times   \n",
       "\n",
       "                              author        date  year  month  \\\n",
       "id                                                              \n",
       "17283                     Carl Hulse  2016-12-31  2016     12   \n",
       "17284  Benjamin Mueller and Al Baker  2017-06-19  2017      6   \n",
       "17285                   Margalit Fox  2017-01-06  2017      1   \n",
       "17286               William McDonald  2017-04-10  2017      4   \n",
       "17287                  Choe Sang-Hun  2017-01-02  2017      1   \n",
       "\n",
       "                                                 content  \n",
       "id                                                        \n",
       "17283  WASHINGTON  —   Congressional Republicans have...  \n",
       "17284  After the bullet shells get counted, the blood...  \n",
       "17285  When Walt Disney’s “Bambi” opened in 1942, cri...  \n",
       "17286  Death may be the great equalizer, but it isn’t...  \n",
       "17287  SEOUL, South Korea  —   North Korea’s leader, ...  "
      ]
     },
     "execution_count": 12,
     "metadata": {},
     "output_type": "execute_result"
    }
   ],
   "source": [
    "tab.head()"
   ]
  },
  {
   "cell_type": "markdown",
   "metadata": {},
   "source": [
    "___"
   ]
  },
  {
   "cell_type": "markdown",
   "metadata": {},
   "source": [
    "**(0.5 балла) Задача 1.** Проделайте следующие базовые операции с датафреймами:\n",
    "\n",
    "1. определите количество различных издательств в таблице;\n",
    "2. найдите количество опубликованных статей в отрезке [2016-06-01, 2016-12-31];\n",
    "3. посчитайте распределение статей автора *Tom Ciccotta* по годам;\n",
    "4. найдите месяц, в котором было наибольшее число статей;\n",
    "5. выпишите 3 первые статьи автора *John Hayward* в 2016 году."
   ]
  },
  {
   "cell_type": "markdown",
   "metadata": {},
   "source": [
    "### Количество различных издательств"
   ]
  },
  {
   "cell_type": "code",
   "execution_count": 13,
   "metadata": {},
   "outputs": [
    {
     "data": {
      "text/plain": [
       "5"
      ]
     },
     "execution_count": 13,
     "metadata": {},
     "output_type": "execute_result"
    }
   ],
   "source": [
    "len(tab.publication.unique())"
   ]
  },
  {
   "cell_type": "markdown",
   "metadata": {},
   "source": [
    "___"
   ]
  },
  {
   "cell_type": "markdown",
   "metadata": {},
   "source": [
    "### Количество статей в отрезке [2016-06-01, 2016-12-31]"
   ]
  },
  {
   "cell_type": "code",
   "execution_count": 14,
   "metadata": {},
   "outputs": [],
   "source": [
    "tab.date = pd.to_datetime(tab.date)"
   ]
  },
  {
   "cell_type": "code",
   "execution_count": 15,
   "metadata": {},
   "outputs": [
    {
     "data": {
      "text/plain": [
       "19408"
      ]
     },
     "execution_count": 15,
     "metadata": {},
     "output_type": "execute_result"
    }
   ],
   "source": [
    "tab.date[tab.date >= pd.Timestamp('2016-06-01')][tab.date <= pd.Timestamp('2016-12-31')].shape[0]"
   ]
  },
  {
   "cell_type": "markdown",
   "metadata": {},
   "source": [
    "___"
   ]
  },
  {
   "cell_type": "markdown",
   "metadata": {},
   "source": [
    "### Посчитайте распределение статей автора Tom Ciccotta по годам;"
   ]
  },
  {
   "cell_type": "code",
   "execution_count": 16,
   "metadata": {},
   "outputs": [
    {
     "data": {
      "text/html": [
       "<div>\n",
       "<style scoped>\n",
       "    .dataframe tbody tr th:only-of-type {\n",
       "        vertical-align: middle;\n",
       "    }\n",
       "\n",
       "    .dataframe tbody tr th {\n",
       "        vertical-align: top;\n",
       "    }\n",
       "\n",
       "    .dataframe thead th {\n",
       "        text-align: right;\n",
       "    }\n",
       "</style>\n",
       "<table border=\"1\" class=\"dataframe\">\n",
       "  <thead>\n",
       "    <tr style=\"text-align: right;\">\n",
       "      <th></th>\n",
       "      <th>title</th>\n",
       "      <th>publication</th>\n",
       "      <th>author</th>\n",
       "      <th>date</th>\n",
       "      <th>year</th>\n",
       "      <th>month</th>\n",
       "      <th>content</th>\n",
       "    </tr>\n",
       "    <tr>\n",
       "      <th>id</th>\n",
       "      <th></th>\n",
       "      <th></th>\n",
       "      <th></th>\n",
       "      <th></th>\n",
       "      <th></th>\n",
       "      <th></th>\n",
       "      <th></th>\n",
       "    </tr>\n",
       "  </thead>\n",
       "  <tbody>\n",
       "    <tr>\n",
       "      <th>26557</th>\n",
       "      <td>MILO Fan at UW Appears Covered in Bruises, Cut...</td>\n",
       "      <td>Breitbart</td>\n",
       "      <td>Tom Ciccotta</td>\n",
       "      <td>2017-01-20</td>\n",
       "      <td>2017</td>\n",
       "      <td>1</td>\n",
       "      <td>A young man in an American flag hat who attend...</td>\n",
       "    </tr>\n",
       "    <tr>\n",
       "      <th>26589</th>\n",
       "      <td>WATCH: MILO and Martin Shkreli March on UC Dav...</td>\n",
       "      <td>Breitbart</td>\n",
       "      <td>Tom Ciccotta</td>\n",
       "      <td>2017-01-14</td>\n",
       "      <td>2017</td>\n",
       "      <td>1</td>\n",
       "      <td>Breitbart editor MILO and former pharmaceutica...</td>\n",
       "    </tr>\n",
       "    <tr>\n",
       "      <th>26619</th>\n",
       "      <td>Van Jones at University of Chicago: Safe Space...</td>\n",
       "      <td>Breitbart</td>\n",
       "      <td>Tom Ciccotta</td>\n",
       "      <td>2017-02-25</td>\n",
       "      <td>2017</td>\n",
       "      <td>2</td>\n",
       "      <td>Speaking at the University of Chicago Institut...</td>\n",
       "    </tr>\n",
       "    <tr>\n",
       "      <th>26671</th>\n",
       "      <td>University of Colorado Regent Defends MILO, Wa...</td>\n",
       "      <td>Breitbart</td>\n",
       "      <td>Tom Ciccotta</td>\n",
       "      <td>2017-01-19</td>\n",
       "      <td>2017</td>\n",
       "      <td>1</td>\n",
       "      <td>The new regent at the University of Colorado, ...</td>\n",
       "    </tr>\n",
       "    <tr>\n",
       "      <th>26691</th>\n",
       "      <td>Georgetown Asks Students to Stop Offering Dorm...</td>\n",
       "      <td>Breitbart</td>\n",
       "      <td>Tom Ciccotta</td>\n",
       "      <td>2017-01-17</td>\n",
       "      <td>2017</td>\n",
       "      <td>1</td>\n",
       "      <td>Administrators at Georgetown University releas...</td>\n",
       "    </tr>\n",
       "  </tbody>\n",
       "</table>\n",
       "</div>"
      ],
      "text/plain": [
       "                                                   title publication  \\\n",
       "id                                                                     \n",
       "26557  MILO Fan at UW Appears Covered in Bruises, Cut...   Breitbart   \n",
       "26589  WATCH: MILO and Martin Shkreli March on UC Dav...   Breitbart   \n",
       "26619  Van Jones at University of Chicago: Safe Space...   Breitbart   \n",
       "26671  University of Colorado Regent Defends MILO, Wa...   Breitbart   \n",
       "26691  Georgetown Asks Students to Stop Offering Dorm...   Breitbart   \n",
       "\n",
       "             author       date  year  month  \\\n",
       "id                                            \n",
       "26557  Tom Ciccotta 2017-01-20  2017      1   \n",
       "26589  Tom Ciccotta 2017-01-14  2017      1   \n",
       "26619  Tom Ciccotta 2017-02-25  2017      2   \n",
       "26671  Tom Ciccotta 2017-01-19  2017      1   \n",
       "26691  Tom Ciccotta 2017-01-17  2017      1   \n",
       "\n",
       "                                                 content  \n",
       "id                                                        \n",
       "26557  A young man in an American flag hat who attend...  \n",
       "26589  Breitbart editor MILO and former pharmaceutica...  \n",
       "26619  Speaking at the University of Chicago Institut...  \n",
       "26671  The new regent at the University of Colorado, ...  \n",
       "26691  Administrators at Georgetown University releas...  "
      ]
     },
     "execution_count": 16,
     "metadata": {},
     "output_type": "execute_result"
    }
   ],
   "source": [
    "tab[tab.author == 'Tom Ciccotta'].head()"
   ]
  },
  {
   "cell_type": "code",
   "execution_count": 17,
   "metadata": {},
   "outputs": [
    {
     "data": {
      "text/plain": [
       "array([2017, 2016])"
      ]
     },
     "execution_count": 17,
     "metadata": {},
     "output_type": "execute_result"
    }
   ],
   "source": [
    "tab[tab.author == 'Tom Ciccotta'].year.unique()"
   ]
  },
  {
   "cell_type": "code",
   "execution_count": 18,
   "metadata": {},
   "outputs": [
    {
     "data": {
      "image/png": "[encoded data removed]",
      "text/plain": [
       "<Figure size 540x360 with 1 Axes>"
      ]
     },
     "metadata": {
      "needs_background": "light"
     },
     "output_type": "display_data"
    }
   ],
   "source": [
    "fig,ax = plt.subplots(dpi=90)\n",
    "tab[tab.author == 'Tom Ciccotta'].year.hist(ax=ax)\n",
    "plt.show()"
   ]
  },
  {
   "cell_type": "markdown",
   "metadata": {},
   "source": [
    "___"
   ]
  },
  {
   "cell_type": "markdown",
   "metadata": {},
   "source": [
    "### Найдите месяц, в котором было наибольшее число статей"
   ]
  },
  {
   "cell_type": "code",
   "execution_count": 19,
   "metadata": {},
   "outputs": [
    {
     "data": {
      "text/plain": [
       "1"
      ]
     },
     "execution_count": 19,
     "metadata": {},
     "output_type": "execute_result"
    }
   ],
   "source": [
    "tab.groupby('month').count()['publication'].idxmax()\n",
    "# https://pandas.pydata.org/pandas-docs/stable/reference/api/pandas.DataFrame.idxmax.html"
   ]
  },
  {
   "cell_type": "markdown",
   "metadata": {},
   "source": [
    "___"
   ]
  },
  {
   "cell_type": "markdown",
   "metadata": {},
   "source": [
    "### Выпишите 3 первые статьи автора John Hayward в 2016 году"
   ]
  },
  {
   "cell_type": "code",
   "execution_count": 20,
   "metadata": {},
   "outputs": [
    {
     "data": {
      "text/html": [
       "<div>\n",
       "<style scoped>\n",
       "    .dataframe tbody tr th:only-of-type {\n",
       "        vertical-align: middle;\n",
       "    }\n",
       "\n",
       "    .dataframe tbody tr th {\n",
       "        vertical-align: top;\n",
       "    }\n",
       "\n",
       "    .dataframe thead th {\n",
       "        text-align: right;\n",
       "    }\n",
       "</style>\n",
       "<table border=\"1\" class=\"dataframe\">\n",
       "  <thead>\n",
       "    <tr style=\"text-align: right;\">\n",
       "      <th></th>\n",
       "      <th>title</th>\n",
       "      <th>publication</th>\n",
       "      <th>author</th>\n",
       "      <th>date</th>\n",
       "      <th>year</th>\n",
       "      <th>month</th>\n",
       "      <th>content</th>\n",
       "    </tr>\n",
       "    <tr>\n",
       "      <th>id</th>\n",
       "      <th></th>\n",
       "      <th></th>\n",
       "      <th></th>\n",
       "      <th></th>\n",
       "      <th></th>\n",
       "      <th></th>\n",
       "      <th></th>\n",
       "    </tr>\n",
       "  </thead>\n",
       "  <tbody>\n",
       "    <tr>\n",
       "      <th>35600</th>\n",
       "      <td>Indonesian Couple Beaten with Canes for Violat...</td>\n",
       "      <td>Breitbart</td>\n",
       "      <td>John Hayward</td>\n",
       "      <td>2016-01-01</td>\n",
       "      <td>2016</td>\n",
       "      <td>1</td>\n",
       "      <td>Islamic sharia law was enforced with canes onc...</td>\n",
       "    </tr>\n",
       "    <tr>\n",
       "      <th>40791</th>\n",
       "      <td>Islamic State Claims Credit For Gun Attack On ...</td>\n",
       "      <td>Breitbart</td>\n",
       "      <td>John Hayward</td>\n",
       "      <td>2016-01-01</td>\n",
       "      <td>2016</td>\n",
       "      <td>1</td>\n",
       "      <td>The Islamic State has claimed responsibility f...</td>\n",
       "    </tr>\n",
       "    <tr>\n",
       "      <th>46325</th>\n",
       "      <td>Protests Across India Against Saudi Execution ...</td>\n",
       "      <td>Breitbart</td>\n",
       "      <td>John Hayward</td>\n",
       "      <td>2016-01-04</td>\n",
       "      <td>2016</td>\n",
       "      <td>1</td>\n",
       "      <td>Protests over Saudi Arabia’s execution of Shii...</td>\n",
       "    </tr>\n",
       "  </tbody>\n",
       "</table>\n",
       "</div>"
      ],
      "text/plain": [
       "                                                   title publication  \\\n",
       "id                                                                     \n",
       "35600  Indonesian Couple Beaten with Canes for Violat...   Breitbart   \n",
       "40791  Islamic State Claims Credit For Gun Attack On ...   Breitbart   \n",
       "46325  Protests Across India Against Saudi Execution ...   Breitbart   \n",
       "\n",
       "             author       date  year  month  \\\n",
       "id                                            \n",
       "35600  John Hayward 2016-01-01  2016      1   \n",
       "40791  John Hayward 2016-01-01  2016      1   \n",
       "46325  John Hayward 2016-01-04  2016      1   \n",
       "\n",
       "                                                 content  \n",
       "id                                                        \n",
       "35600  Islamic sharia law was enforced with canes onc...  \n",
       "40791  The Islamic State has claimed responsibility f...  \n",
       "46325  Protests over Saudi Arabia’s execution of Shii...  "
      ]
     },
     "execution_count": 20,
     "metadata": {},
     "output_type": "execute_result"
    }
   ],
   "source": [
    "tab[(tab.author == 'John Hayward') & (tab.year == 2016)].sort_values('date').head(3)"
   ]
  },
  {
   "cell_type": "markdown",
   "metadata": {},
   "source": [
    "___"
   ]
  },
  {
   "cell_type": "markdown",
   "metadata": {},
   "source": [
    "** Работа со строками в датафрейме. **\n",
    "\n",
    "Для датафреймов существуют методы работы со строковыми данными. Чтобы применить их, необходимо воспользоваться атрибутом ```str```, после чего вызвать нужные методы работы со строками. Например, вызов:\n",
    "\n",
    "```df['content'].str.len() ```\n",
    "\n",
    "подсчитает для каждой строчки в датафрейме количество символов в колонке content. Более подробную информацию про работу с текстовыми данными в Pandas можно найти [здесь](https://pandas.pydata.org/pandas-docs/stable/user_guide/text.html).\n"
   ]
  },
  {
   "cell_type": "markdown",
   "metadata": {},
   "source": [
    "**(0.5 балла) Задача 2.**\n",
    "\n",
    "Найдите в датафрейме всех авторов, имя которых содержит Faith. Выведите Series, состоящий из всех таких уникальных имен."
   ]
  },
  {
   "cell_type": "code",
   "execution_count": 21,
   "metadata": {},
   "outputs": [],
   "source": [
    "tab.author = tab.author.fillna('UNKNOWN')"
   ]
  },
  {
   "cell_type": "code",
   "execution_count": 22,
   "metadata": {},
   "outputs": [
    {
     "data": {
      "text/plain": [
       "array([' Faith Haleh Robinson', 'Faith Karimi', 'Faith Haleh Robinson',\n",
       "       'Faith Karimi,', 'Faith Karimi ', 'Faith Karimi, ',\n",
       "       ' Faith Karimi', ' Faith Karimi '], dtype=object)"
      ]
     },
     "execution_count": 22,
     "metadata": {},
     "output_type": "execute_result"
    }
   ],
   "source": [
    "tab.author[tab.author.str.contains('Faith')].unique()"
   ]
  },
  {
   "cell_type": "markdown",
   "metadata": {},
   "source": [
    "**(1 балл) Задача 3.**\n",
    "\n",
    "Как можно заметить, в таблице существует множество различных написаний имени Faith Karimi. В основном эти написания различаются пунктуацией - лишние пробелы и запятые. Для правильного подсчета статистик для текстовых данных зачастую возникает необходимость в их предобработке.\n",
    "\n",
    "Проведите следующие преобразования для колонок *author* и *content*:\n",
    "\n",
    "1. приведение текста к нижнему регистру;\n",
    "\n",
    "2. удаление всей пунктуации из текста;\n",
    "\n",
    "3. удаление пробелов в начале и конце строки;\n",
    "\n",
    "3. замена подряд идущих пробелов одним пробелом.\n",
    "\n",
    "Например, строка ```\"   It's 6 a.m. and I'm still doing this homework :((    \"```\n",
    "\n",
    "преобразуется в строку  ```its 6 am and im still doing this homework```\n",
    "\n",
    "Подсчитайте статистику для имени Faith из прошлого задания. Проверьте, что теперь различные способы написания «схлопываются» в один."
   ]
  },
  {
   "cell_type": "code",
   "execution_count": 23,
   "metadata": {},
   "outputs": [],
   "source": [
    "# https://stackoverflow.com/questions/38277928/remove-special-characters-in-pandas-dataframe\n",
    "# https://pandas.pydata.org/pandas-docs/stable/reference/api/pandas.Series.str.replace.html"
   ]
  },
  {
   "cell_type": "code",
   "execution_count": 24,
   "metadata": {},
   "outputs": [],
   "source": [
    "tab.author = tab.author.str.lower().str.strip().str.replace(r'[^a-z\\ ]', regex=True, repl=r'').str.replace('  ', repl=r'')\n",
    "tab.content = tab.content.str.lower().str.strip().str.replace(r'[^a-z\\ ]', regex=True, repl=r'').str.replace('  ', repl=r'')"
   ]
  },
  {
   "cell_type": "code",
   "execution_count": 25,
   "metadata": {},
   "outputs": [
    {
     "data": {
      "text/html": [
       "<div>\n",
       "<style scoped>\n",
       "    .dataframe tbody tr th:only-of-type {\n",
       "        vertical-align: middle;\n",
       "    }\n",
       "\n",
       "    .dataframe tbody tr th {\n",
       "        vertical-align: top;\n",
       "    }\n",
       "\n",
       "    .dataframe thead th {\n",
       "        text-align: right;\n",
       "    }\n",
       "</style>\n",
       "<table border=\"1\" class=\"dataframe\">\n",
       "  <thead>\n",
       "    <tr style=\"text-align: right;\">\n",
       "      <th></th>\n",
       "      <th>title</th>\n",
       "      <th>publication</th>\n",
       "      <th>author</th>\n",
       "      <th>date</th>\n",
       "      <th>year</th>\n",
       "      <th>month</th>\n",
       "      <th>content</th>\n",
       "    </tr>\n",
       "    <tr>\n",
       "      <th>id</th>\n",
       "      <th></th>\n",
       "      <th></th>\n",
       "      <th></th>\n",
       "      <th></th>\n",
       "      <th></th>\n",
       "      <th></th>\n",
       "      <th></th>\n",
       "    </tr>\n",
       "  </thead>\n",
       "  <tbody>\n",
       "    <tr>\n",
       "      <th>17283</th>\n",
       "      <td>House Republicans Fret About Winning Their Hea...</td>\n",
       "      <td>New York Times</td>\n",
       "      <td>carl hulse</td>\n",
       "      <td>2016-12-31</td>\n",
       "      <td>2016</td>\n",
       "      <td>12</td>\n",
       "      <td>washington congressional republicans have a ne...</td>\n",
       "    </tr>\n",
       "    <tr>\n",
       "      <th>17284</th>\n",
       "      <td>Rift Between Officers and Residents as Killing...</td>\n",
       "      <td>New York Times</td>\n",
       "      <td>benjamin mueller and al baker</td>\n",
       "      <td>2017-06-19</td>\n",
       "      <td>2017</td>\n",
       "      <td>6</td>\n",
       "      <td>after the bullet shells get counted the blood ...</td>\n",
       "    </tr>\n",
       "    <tr>\n",
       "      <th>17285</th>\n",
       "      <td>Tyrus Wong, ‘Bambi’ Artist Thwarted by Racial ...</td>\n",
       "      <td>New York Times</td>\n",
       "      <td>margalit fox</td>\n",
       "      <td>2017-01-06</td>\n",
       "      <td>2017</td>\n",
       "      <td>1</td>\n",
       "      <td>when walt disneys bambi opened incritics prais...</td>\n",
       "    </tr>\n",
       "  </tbody>\n",
       "</table>\n",
       "</div>"
      ],
      "text/plain": [
       "                                                   title     publication  \\\n",
       "id                                                                         \n",
       "17283  House Republicans Fret About Winning Their Hea...  New York Times   \n",
       "17284  Rift Between Officers and Residents as Killing...  New York Times   \n",
       "17285  Tyrus Wong, ‘Bambi’ Artist Thwarted by Racial ...  New York Times   \n",
       "\n",
       "                              author       date  year  month  \\\n",
       "id                                                             \n",
       "17283                     carl hulse 2016-12-31  2016     12   \n",
       "17284  benjamin mueller and al baker 2017-06-19  2017      6   \n",
       "17285                   margalit fox 2017-01-06  2017      1   \n",
       "\n",
       "                                                 content  \n",
       "id                                                        \n",
       "17283  washington congressional republicans have a ne...  \n",
       "17284  after the bullet shells get counted the blood ...  \n",
       "17285  when walt disneys bambi opened incritics prais...  "
      ]
     },
     "execution_count": 25,
     "metadata": {},
     "output_type": "execute_result"
    }
   ],
   "source": [
    "tab.head(3)"
   ]
  },
  {
   "cell_type": "markdown",
   "metadata": {},
   "source": [
    "**Группировка данных**\n",
    "\n",
    "С помощью метода [groupby](https://pandas.pydata.org/pandas-docs/stable/reference/api/pandas.DataFrame.groupby.html) удобно группировать данные по значениям одной или нескольких колонок. Далее можно вычислять различные статистики для каждой группы по отдельности.\n",
    "\n",
    "**(1 балл) Задача 4.**\n",
    "\n",
    "Выведите для каждого автора максимальное количество публикаций за календарный год (колонка year), а также сам год, на котором достигается этот максимум. Выведите топ-20 строк в порядке убывания количества публикаций.\n",
    "\n",
    "Пример:\n",
    "\n",
    "Василий Пупкин написал 3 статьи в 2016, и 4 в 2017, а его брат Иван Пупкин только 1 статью в 2016, а в 2017 он отправился в армию и статей не писал.\n",
    "\n",
    "Необходимо вывести\n",
    "\n",
    "```\n",
    "Василий Пупкин - 2017 - 4\n",
    "Иван Пупкин    - 2016 - 1\n",
    "```\n",
    "\n",
    "Обратите внимание, что несколько вызовов методов над датафреймами можно объединить в один pipeline. Другими словами, можно писать\n",
    "\n",
    "```\n",
    "df.func1().func2().funс3()\n",
    "```\n",
    "\n",
    "По возможности реализуйте требуемую функцию с помощью **одного** такого пайплайна. Делайте переносы для лучшей читаемости кода."
   ]
  },
  {
   "cell_type": "code",
   "execution_count": 26,
   "metadata": {},
   "outputs": [
    {
     "data": {
      "text/html": [
       "<div>\n",
       "<style scoped>\n",
       "    .dataframe tbody tr th:only-of-type {\n",
       "        vertical-align: middle;\n",
       "    }\n",
       "\n",
       "    .dataframe tbody tr th {\n",
       "        vertical-align: top;\n",
       "    }\n",
       "\n",
       "    .dataframe thead th {\n",
       "        text-align: right;\n",
       "    }\n",
       "</style>\n",
       "<table border=\"1\" class=\"dataframe\">\n",
       "  <thead>\n",
       "    <tr style=\"text-align: right;\">\n",
       "      <th>year</th>\n",
       "      <th>max_year</th>\n",
       "      <th>max_pub_cnt</th>\n",
       "    </tr>\n",
       "    <tr>\n",
       "      <th>author</th>\n",
       "      <th></th>\n",
       "      <th></th>\n",
       "    </tr>\n",
       "  </thead>\n",
       "  <tbody>\n",
       "    <tr>\n",
       "      <th>unknown</th>\n",
       "      <td>2016</td>\n",
       "      <td>2862.0</td>\n",
       "    </tr>\n",
       "    <tr>\n",
       "      <th>breitbart news</th>\n",
       "      <td>2016</td>\n",
       "      <td>1317.0</td>\n",
       "    </tr>\n",
       "    <tr>\n",
       "      <th>pam key</th>\n",
       "      <td>2016</td>\n",
       "      <td>820.0</td>\n",
       "    </tr>\n",
       "    <tr>\n",
       "      <th>charlie spiering</th>\n",
       "      <td>2016</td>\n",
       "      <td>660.0</td>\n",
       "    </tr>\n",
       "    <tr>\n",
       "      <th>alex swoyer</th>\n",
       "      <td>2016</td>\n",
       "      <td>584.0</td>\n",
       "    </tr>\n",
       "    <tr>\n",
       "      <th>...</th>\n",
       "      <td>...</td>\n",
       "      <td>...</td>\n",
       "    </tr>\n",
       "    <tr>\n",
       "      <th>jerry garrett</th>\n",
       "      <td>2016</td>\n",
       "      <td>1.0</td>\n",
       "    </tr>\n",
       "    <tr>\n",
       "      <th>jess bidgood alan blinder and jonathan m katz</th>\n",
       "      <td>2016</td>\n",
       "      <td>1.0</td>\n",
       "    </tr>\n",
       "    <tr>\n",
       "      <th>jess bidgood and alan blinder</th>\n",
       "      <td>2016</td>\n",
       "      <td>1.0</td>\n",
       "    </tr>\n",
       "    <tr>\n",
       "      <th>jess bidgood and richard prezpea</th>\n",
       "      <td>2017</td>\n",
       "      <td>1.0</td>\n",
       "    </tr>\n",
       "    <tr>\n",
       "      <th>zia urrehman and salman masood</th>\n",
       "      <td>2016</td>\n",
       "      <td>1.0</td>\n",
       "    </tr>\n",
       "  </tbody>\n",
       "</table>\n",
       "<p>3558 rows × 2 columns</p>\n",
       "</div>"
      ],
      "text/plain": [
       "year                                           max_year  max_pub_cnt\n",
       "author                                                              \n",
       "unknown                                            2016       2862.0\n",
       "breitbart news                                     2016       1317.0\n",
       "pam key                                            2016        820.0\n",
       "charlie spiering                                   2016        660.0\n",
       "alex swoyer                                        2016        584.0\n",
       "...                                                 ...          ...\n",
       "jerry garrett                                      2016          1.0\n",
       "jess bidgood alan blinder and jonathan m katz      2016          1.0\n",
       "jess bidgood and alan blinder                      2016          1.0\n",
       "jess bidgood and richard prezpea                   2017          1.0\n",
       "zia urrehman and salman masood                     2016          1.0\n",
       "\n",
       "[3558 rows x 2 columns]"
      ]
     },
     "execution_count": 26,
     "metadata": {},
     "output_type": "execute_result"
    }
   ],
   "source": [
    "tab.groupby(['author', 'year']).count().publication.unstack().assign(max_pub_cnt=lambda e: e.max(axis=1)).sort_values('max_pub_cnt',ascending=False).assign(max_year=lambda e: e.idxmax(axis=1))[['max_year', 'max_pub_cnt']]"
   ]
  },
  {
   "cell_type": "markdown",
   "metadata": {},
   "source": [
    "**(1 балл) Задача 5.**\n",
    "Для каждой статьи $i$ исходного датафрейма посчитайте количество статей, опубликованных тем же издательством (publication), к моменту публикации $i$ (включая статьи того же дня).\n",
    "\n",
    "Обратите внимание, что для всех статей, выпущенных одним издательством в один день, должен получиться одинаковый ответ.\n",
    "\n",
    "*Hint*. Возможный вариант решения:\n",
    "\n",
    "1. сгруппировав данные по полям *publication*, *date*, посчитать размер каждой группы;\n",
    "2. приджойнить размер группы к основному датафрейму с помощью функуии ```pd.merge```."
   ]
  },
  {
   "cell_type": "code",
   "execution_count": 27,
   "metadata": {},
   "outputs": [],
   "source": [
    "pub_date_cnt = tab.groupby(['publication', 'date'], as_index=False).count()[['publication', 'date', 'title']]"
   ]
  },
  {
   "cell_type": "code",
   "execution_count": 28,
   "metadata": {},
   "outputs": [
    {
     "data": {
      "text/html": [
       "<div>\n",
       "<style scoped>\n",
       "    .dataframe tbody tr th:only-of-type {\n",
       "        vertical-align: middle;\n",
       "    }\n",
       "\n",
       "    .dataframe tbody tr th {\n",
       "        vertical-align: top;\n",
       "    }\n",
       "\n",
       "    .dataframe thead th {\n",
       "        text-align: right;\n",
       "    }\n",
       "</style>\n",
       "<table border=\"1\" class=\"dataframe\">\n",
       "  <thead>\n",
       "    <tr style=\"text-align: right;\">\n",
       "      <th></th>\n",
       "      <th>title_x</th>\n",
       "      <th>publication</th>\n",
       "      <th>author</th>\n",
       "      <th>date</th>\n",
       "      <th>year</th>\n",
       "      <th>month</th>\n",
       "      <th>content</th>\n",
       "      <th>same_day_publications</th>\n",
       "    </tr>\n",
       "  </thead>\n",
       "  <tbody>\n",
       "    <tr>\n",
       "      <th>0</th>\n",
       "      <td>House Republicans Fret About Winning Their Hea...</td>\n",
       "      <td>New York Times</td>\n",
       "      <td>carl hulse</td>\n",
       "      <td>2016-12-31</td>\n",
       "      <td>2016</td>\n",
       "      <td>12</td>\n",
       "      <td>washington congressional republicans have a ne...</td>\n",
       "      <td>4</td>\n",
       "    </tr>\n",
       "    <tr>\n",
       "      <th>1</th>\n",
       "      <td>First, a Mixtape. Then a Romance. - The New Yo...</td>\n",
       "      <td>New York Times</td>\n",
       "      <td>katherine rosman</td>\n",
       "      <td>2016-12-31</td>\n",
       "      <td>2016</td>\n",
       "      <td>12</td>\n",
       "      <td>just how is hillary kerr thefounder of a digit...</td>\n",
       "      <td>4</td>\n",
       "    </tr>\n",
       "    <tr>\n",
       "      <th>2</th>\n",
       "      <td>Calling on Angels While Enduring the Trials of...</td>\n",
       "      <td>New York Times</td>\n",
       "      <td>andy newman</td>\n",
       "      <td>2016-12-31</td>\n",
       "      <td>2016</td>\n",
       "      <td>12</td>\n",
       "      <td>angels are everywhere in the muiz familys apar...</td>\n",
       "      <td>4</td>\n",
       "    </tr>\n",
       "    <tr>\n",
       "      <th>3</th>\n",
       "      <td>Pan Pan, Father to a Generation of Pandas, Die...</td>\n",
       "      <td>New York Times</td>\n",
       "      <td>erin mccann</td>\n",
       "      <td>2016-12-31</td>\n",
       "      <td>2016</td>\n",
       "      <td>12</td>\n",
       "      <td>pan pan a giant panda whose virility helped sp...</td>\n",
       "      <td>4</td>\n",
       "    </tr>\n",
       "    <tr>\n",
       "      <th>4</th>\n",
       "      <td>Rift Between Officers and Residents as Killing...</td>\n",
       "      <td>New York Times</td>\n",
       "      <td>benjamin mueller and al baker</td>\n",
       "      <td>2017-06-19</td>\n",
       "      <td>2017</td>\n",
       "      <td>6</td>\n",
       "      <td>after the bullet shells get counted the blood ...</td>\n",
       "      <td>6</td>\n",
       "    </tr>\n",
       "    <tr>\n",
       "      <th>...</th>\n",
       "      <td>...</td>\n",
       "      <td>...</td>\n",
       "      <td>...</td>\n",
       "      <td>...</td>\n",
       "      <td>...</td>\n",
       "      <td>...</td>\n",
       "      <td>...</td>\n",
       "      <td>...</td>\n",
       "    </tr>\n",
       "    <tr>\n",
       "      <th>49995</th>\n",
       "      <td>The Enduring Mystery of Pain Measurement</td>\n",
       "      <td>Atlantic</td>\n",
       "      <td>john walsh</td>\n",
       "      <td>2017-01-10</td>\n",
       "      <td>2017</td>\n",
       "      <td>1</td>\n",
       "      <td>one night in may my wife sat up in bed and sai...</td>\n",
       "      <td>19</td>\n",
       "    </tr>\n",
       "    <tr>\n",
       "      <th>49996</th>\n",
       "      <td>What Conan O’Brien Means to Late Night’s Future</td>\n",
       "      <td>Atlantic</td>\n",
       "      <td>david sims</td>\n",
       "      <td>2017-01-10</td>\n",
       "      <td>2017</td>\n",
       "      <td>1</td>\n",
       "      <td>conan obrien was once the upstart of the comed...</td>\n",
       "      <td>19</td>\n",
       "    </tr>\n",
       "    <tr>\n",
       "      <th>49997</th>\n",
       "      <td>The Absurdity of Attacking Celebrities to Defe...</td>\n",
       "      <td>Atlantic</td>\n",
       "      <td>conor friedersdorf</td>\n",
       "      <td>2017-01-10</td>\n",
       "      <td>2017</td>\n",
       "      <td>1</td>\n",
       "      <td>fifty years ago california republicans elected...</td>\n",
       "      <td>19</td>\n",
       "    </tr>\n",
       "    <tr>\n",
       "      <th>49998</th>\n",
       "      <td>Drive-Through Redwoods Are Monuments to Violen...</td>\n",
       "      <td>Atlantic</td>\n",
       "      <td>sarah zhang</td>\n",
       "      <td>2017-01-10</td>\n",
       "      <td>2017</td>\n",
       "      <td>1</td>\n",
       "      <td>this weekend amidst a torrent of rain one of c...</td>\n",
       "      <td>19</td>\n",
       "    </tr>\n",
       "    <tr>\n",
       "      <th>49999</th>\n",
       "      <td>How Superstar Economics Is Killing the NFL’s R...</td>\n",
       "      <td>Atlantic</td>\n",
       "      <td>derek thompson</td>\n",
       "      <td>2017-01-10</td>\n",
       "      <td>2017</td>\n",
       "      <td>1</td>\n",
       "      <td>for years the national football league has bee...</td>\n",
       "      <td>19</td>\n",
       "    </tr>\n",
       "  </tbody>\n",
       "</table>\n",
       "<p>50000 rows × 8 columns</p>\n",
       "</div>"
      ],
      "text/plain": [
       "                                                 title_x     publication  \\\n",
       "0      House Republicans Fret About Winning Their Hea...  New York Times   \n",
       "1      First, a Mixtape. Then a Romance. - The New Yo...  New York Times   \n",
       "2      Calling on Angels While Enduring the Trials of...  New York Times   \n",
       "3      Pan Pan, Father to a Generation of Pandas, Die...  New York Times   \n",
       "4      Rift Between Officers and Residents as Killing...  New York Times   \n",
       "...                                                  ...             ...   \n",
       "49995           The Enduring Mystery of Pain Measurement        Atlantic   \n",
       "49996    What Conan O’Brien Means to Late Night’s Future        Atlantic   \n",
       "49997  The Absurdity of Attacking Celebrities to Defe...        Atlantic   \n",
       "49998  Drive-Through Redwoods Are Monuments to Violen...        Atlantic   \n",
       "49999  How Superstar Economics Is Killing the NFL’s R...        Atlantic   \n",
       "\n",
       "                              author       date  year  month  \\\n",
       "0                         carl hulse 2016-12-31  2016     12   \n",
       "1                   katherine rosman 2016-12-31  2016     12   \n",
       "2                        andy newman 2016-12-31  2016     12   \n",
       "3                        erin mccann 2016-12-31  2016     12   \n",
       "4      benjamin mueller and al baker 2017-06-19  2017      6   \n",
       "...                              ...        ...   ...    ...   \n",
       "49995                     john walsh 2017-01-10  2017      1   \n",
       "49996                     david sims 2017-01-10  2017      1   \n",
       "49997             conor friedersdorf 2017-01-10  2017      1   \n",
       "49998                    sarah zhang 2017-01-10  2017      1   \n",
       "49999                 derek thompson 2017-01-10  2017      1   \n",
       "\n",
       "                                                 content  \\\n",
       "0      washington congressional republicans have a ne...   \n",
       "1      just how is hillary kerr thefounder of a digit...   \n",
       "2      angels are everywhere in the muiz familys apar...   \n",
       "3      pan pan a giant panda whose virility helped sp...   \n",
       "4      after the bullet shells get counted the blood ...   \n",
       "...                                                  ...   \n",
       "49995  one night in may my wife sat up in bed and sai...   \n",
       "49996  conan obrien was once the upstart of the comed...   \n",
       "49997  fifty years ago california republicans elected...   \n",
       "49998  this weekend amidst a torrent of rain one of c...   \n",
       "49999  for years the national football league has bee...   \n",
       "\n",
       "       same_day_publications  \n",
       "0                          4  \n",
       "1                          4  \n",
       "2                          4  \n",
       "3                          4  \n",
       "4                          6  \n",
       "...                      ...  \n",
       "49995                     19  \n",
       "49996                     19  \n",
       "49997                     19  \n",
       "49998                     19  \n",
       "49999                     19  \n",
       "\n",
       "[50000 rows x 8 columns]"
      ]
     },
     "execution_count": 28,
     "metadata": {},
     "output_type": "execute_result"
    }
   ],
   "source": [
    "pd.merge(tab, pub_date_cnt, on=['publication', 'date']).rename({'title_y': 'same_day_publications'}, axis=1)"
   ]
  },
  {
   "cell_type": "markdown",
   "metadata": {},
   "source": [
    "*P.S* Ответ в `same_day_publications`"
   ]
  },
  {
   "cell_type": "code",
   "execution_count": 29,
   "metadata": {},
   "outputs": [],
   "source": [
    "# solution: https://stackoverflow.com/questions/24980437/pandas-groupby-and-then-merge-on-original-table"
   ]
  },
  {
   "cell_type": "markdown",
   "metadata": {},
   "source": [
    "### [Разреженные матрицы](https://ru.wikipedia.org/wiki/Разреженная_матрица)\n",
    "\n",
    "\n",
    "\n",
    "Вот здесь http://docs.scipy.org/doc/scipy/reference/sparse.html можно посмотреть, как различные форматы разреженных матриц реализованы в библиотеке `scipy`.\n",
    "\n",
    "Вот здесь https://www.cise.ufl.edu/research/sparse/matrices/index.html выложено много разреженных матриц из разнообразных приложений. Что особенно приятно, сайт предоставляет удобный клиент для скачивания, в котором доступен предпросмотр и данные о том, являются ли матрицы симметричными или положительно определёнными.\n",
    "\n",
    "Торговая сеть предоставила вам данные о покупках своих клиентов, представляющие собою \n",
    "таблицу со столбцами \n",
    "* Номер записи\n",
    "* *InvoiceNo* - номер чека\n",
    "* *StockCode* - код товара\n",
    "* *Description* - название товара\n",
    "\n",
    "Чтобы понять, какие товары покупают вместе, вы решили построить (разреженную) матрицу, строки и столбцы которой соответствуют различным товарам, а в клетке с \"номером\" $(g_1, g_2)$ стоит число $c(g_1 \\& g_2)$ --- количество чеков, содержащих оба товара. \n",
    "\n",
    "**(1 балл) Задача 6.** Ниже приведён код, который вам нужно дополнить, дописав функцию ``CreateMatrix``, создающую из структуры pandas.DataFrame разреженную матрицу. Ваша реализация должна удовлетворять следующим свойствам:\n",
    "* матрица должна создаваться эффективно и по возможности с минимальным числом циклов;\n",
    "* итоговая матрица должна позволять быстро отвечать на следующие вопросы:\n",
    "  - сколько всего было куплено товаров данного типа?\n",
    "  - какие пары товаров покупались вместе чаще всего?\n",
    "  - какие товары чаще всего покупались вместе с данным товаром?\n",
    "\n",
    "Пожалуйста, объясните, почему вы выбрали именно ту, а не иную архитектуру."
   ]
  },
  {
   "cell_type": "markdown",
   "metadata": {},
   "source": [
    "Загрузим данные:"
   ]
  },
  {
   "cell_type": "code",
   "execution_count": 30,
   "metadata": {},
   "outputs": [],
   "source": [
    "import pandas as pd\n",
    "receipts = pd.read_csv('Online Retail Short.csv', sep=';')"
   ]
  },
  {
   "cell_type": "markdown",
   "metadata": {},
   "source": [
    "Распечатаем первые несколько строк, чтобы осознать структуру данных:"
   ]
  },
  {
   "cell_type": "code",
   "execution_count": 31,
   "metadata": {},
   "outputs": [],
   "source": [
    "receipts = receipts.rename({'Unnamed: 0': 'id'}, axis=1).set_index('id')"
   ]
  },
  {
   "cell_type": "code",
   "execution_count": 32,
   "metadata": {},
   "outputs": [
    {
     "data": {
      "text/html": [
       "<div>\n",
       "<style scoped>\n",
       "    .dataframe tbody tr th:only-of-type {\n",
       "        vertical-align: middle;\n",
       "    }\n",
       "\n",
       "    .dataframe tbody tr th {\n",
       "        vertical-align: top;\n",
       "    }\n",
       "\n",
       "    .dataframe thead th {\n",
       "        text-align: right;\n",
       "    }\n",
       "</style>\n",
       "<table border=\"1\" class=\"dataframe\">\n",
       "  <thead>\n",
       "    <tr style=\"text-align: right;\">\n",
       "      <th></th>\n",
       "      <th>InvoiceNo</th>\n",
       "      <th>StockCode</th>\n",
       "      <th>Description</th>\n",
       "    </tr>\n",
       "    <tr>\n",
       "      <th>id</th>\n",
       "      <th></th>\n",
       "      <th></th>\n",
       "      <th></th>\n",
       "    </tr>\n",
       "  </thead>\n",
       "  <tbody>\n",
       "    <tr>\n",
       "      <th>0</th>\n",
       "      <td>536365</td>\n",
       "      <td>85123A</td>\n",
       "      <td>WHITE HANGING HEART T-LIGHT HOLDER</td>\n",
       "    </tr>\n",
       "    <tr>\n",
       "      <th>1</th>\n",
       "      <td>536365</td>\n",
       "      <td>71053</td>\n",
       "      <td>WHITE METAL LANTERN</td>\n",
       "    </tr>\n",
       "    <tr>\n",
       "      <th>2</th>\n",
       "      <td>536365</td>\n",
       "      <td>84406B</td>\n",
       "      <td>CREAM CUPID HEARTS COAT HANGER</td>\n",
       "    </tr>\n",
       "    <tr>\n",
       "      <th>3</th>\n",
       "      <td>536365</td>\n",
       "      <td>84029G</td>\n",
       "      <td>KNITTED UNION FLAG HOT WATER BOTTLE</td>\n",
       "    </tr>\n",
       "    <tr>\n",
       "      <th>4</th>\n",
       "      <td>536365</td>\n",
       "      <td>84029E</td>\n",
       "      <td>RED WOOLLY HOTTIE WHITE HEART.</td>\n",
       "    </tr>\n",
       "  </tbody>\n",
       "</table>\n",
       "</div>"
      ],
      "text/plain": [
       "   InvoiceNo StockCode                          Description\n",
       "id                                                         \n",
       "0     536365    85123A   WHITE HANGING HEART T-LIGHT HOLDER\n",
       "1     536365     71053                  WHITE METAL LANTERN\n",
       "2     536365    84406B       CREAM CUPID HEARTS COAT HANGER\n",
       "3     536365    84029G  KNITTED UNION FLAG HOT WATER BOTTLE\n",
       "4     536365    84029E       RED WOOLLY HOTTIE WHITE HEART."
      ]
     },
     "execution_count": 32,
     "metadata": {},
     "output_type": "execute_result"
    }
   ],
   "source": [
    "receipts.head(5)"
   ]
  },
  {
   "cell_type": "markdown",
   "metadata": {},
   "source": [
    "А теперь та самая функция. Вам могут пригодиться следующие конструкции:\n",
    "\n",
    "* ``for name, group in data.groupby('InvoiceNo')`` --- цикл, в котором ``name`` будут различными значениями ``InvoiceNo``, а ``group`` --- кусками нашего ``DataFrame`` с заданным значением ``InvoiceNo``.\n",
    "* ``for g1, g2 in itertools.combinations(list(group['StockCode']), 2)`` --- цикл, пробегающий пары различных элементов (сочетания по 2) из списка товаров из заданной группы."
   ]
  },
  {
   "cell_type": "code",
   "execution_count": 33,
   "metadata": {},
   "outputs": [],
   "source": [
    "import scipy.sparse as sps\n",
    "import itertools\n",
    "\n",
    "# Зачем бы нужны следующие две строки?)\n",
    "idx2code = sorted(set(receipts['StockCode']))\n",
    "code2idx = {code : i for i, code in enumerate(idx2code)}\n",
    "\n",
    "def CreateMatrix(data):\n",
    "    '''\n",
    "    Ввод\n",
    "    -----\n",
    "    receipts: структура pandas.DataFrame\n",
    "    \n",
    "    Вывод\n",
    "    ------\n",
    "    res: разреженная матрица\n",
    "    '''\n",
    "    matr = sps.lil_matrix((len(idx2code), len(idx2code)))\n",
    "    # Your code here\n",
    "    for name, group in receipts.groupby('InvoiceNo'):\n",
    "#         print(name, group)\n",
    "        for g1, g2 in itertools.combinations(list(group['StockCode']), 2):\n",
    "#             print(g1,g2)\n",
    "            matr[code2idx[g1], code2idx[g2]] += 1\n",
    "            matr[code2idx[g2], code2idx[g1]] += 1\n",
    "    return matr"
   ]
  },
  {
   "cell_type": "code",
   "execution_count": 34,
   "metadata": {},
   "outputs": [],
   "source": [
    "m = CreateMatrix(receipts)"
   ]
  },
  {
   "cell_type": "markdown",
   "metadata": {},
   "source": [
    "**(1 балл) Задача 7.** C помощью созданной вами матрицы ответьте на несколько вопросов:\n",
    "\n",
    "1) Какая пара товаров была куплена вместе наибольшее число раз? Пожалуйста, в качестве ответа укажите не `id`, а названия из столбца ``Descriptions``.\n",
    "\n",
    "2) Что чаще всего покупали вместе с ``KNITTED UNION FLAG HOT WATER BOTTLE``?\n",
    "\n",
    "В вашем ноутбуке должно быть продемонстрировано, как вы это находите с помощью матрицы!"
   ]
  },
  {
   "cell_type": "code",
   "execution_count": 35,
   "metadata": {},
   "outputs": [],
   "source": [
    "arr = m.toarray()"
   ]
  },
  {
   "cell_type": "markdown",
   "metadata": {},
   "source": [
    "1) Какая пара товаров была куплена вместе наибольшее число раз? Пожалуйста, в качестве ответа укажите не `id`, а названия из столбца ``Descriptions``."
   ]
  },
  {
   "cell_type": "code",
   "execution_count": 36,
   "metadata": {},
   "outputs": [],
   "source": [
    "a_idx, b_idx = np.unravel_index(arr.argmax(), np.array(arr).shape)"
   ]
  },
  {
   "cell_type": "code",
   "execution_count": 37,
   "metadata": {},
   "outputs": [
    {
     "name": "stdout",
     "output_type": "stream",
     "text": [
      "Answer: GREEN REGENCY TEACUP AND SAUCER and ROSES REGENCY TEACUP AND SAUCER \n"
     ]
    }
   ],
   "source": [
    "print(\"Answer:\",receipts[receipts.StockCode == idx2code[a_idx]].Description.unique()[0], \"and\", receipts[receipts.StockCode == idx2code[b_idx]].Description.unique()[0])"
   ]
  },
  {
   "cell_type": "markdown",
   "metadata": {},
   "source": [
    "2) Что чаще всего покупали вместе с ``KNITTED UNION FLAG HOT WATER BOTTLE``?"
   ]
  },
  {
   "cell_type": "code",
   "execution_count": 38,
   "metadata": {},
   "outputs": [],
   "source": [
    "code = receipts[receipts.Description == 'KNITTED UNION FLAG HOT WATER BOTTLE'].StockCode.unique()[0]"
   ]
  },
  {
   "cell_type": "code",
   "execution_count": 39,
   "metadata": {},
   "outputs": [],
   "source": [
    "frequent_idx = arr[code2idx[code]].argmax()"
   ]
  },
  {
   "cell_type": "code",
   "execution_count": 40,
   "metadata": {},
   "outputs": [
    {
     "name": "stdout",
     "output_type": "stream",
     "text": [
      "Answer: CHOCOLATE HOT WATER BOTTLE\n"
     ]
    }
   ],
   "source": [
    "print(\"Answer:\",receipts[receipts.StockCode == idx2code[frequent_idx]].Description.unique()[0])"
   ]
  },
  {
   "cell_type": "markdown",
   "metadata": {},
   "source": [
    "### Визуализация ([Matplotlib](https://matplotlib.org/stable/index.html))\n",
    "\n",
    "Обратите внимание, что у графиков должны быть подписаны оси, заголовок графика и при необходимости обязательно наличие легенды. За отсутствие названий графиков и подписей к осям могут снижаться баллы. Все картинки должны быть самодостаточны и визуально удобны для восприятия, так чтобы не нужно было смотреть ваш код или знать задание, чтобы понять что на них изображено.\n",
    "\n",
    "![](https://imgs.xkcd.com/comics/convincing.png)"
   ]
  },
  {
   "cell_type": "code",
   "execution_count": 41,
   "metadata": {},
   "outputs": [],
   "source": [
    "# Графическая библиотека\n",
    "import matplotlib.pyplot as plt\n",
    "\n",
    "# Позволяет отрисовывать графики и изображения прямо в ноутбуке, а не в отдельном окне. Жизненно важная вещь!\n",
    "%matplotlib inline"
   ]
  },
  {
   "cell_type": "markdown",
   "metadata": {},
   "source": [
    "**(0.5 балла) Задача 8.** Используя функцию ```gen_uncertain_data``` для генерации выборки, отобразите на графике синим цветом функцию ```y(x)```, а также ее доверительный интервал в виде закрашенной зеленым цветом области от ```y[i] - error[i]``` до ```y[i] + error[i]```. Полезной может оказаться функция fill_between.\n",
    "\n",
    "    def gen_uncertain_data():\n",
    "        x = np.linspace(0, 30, 100)\n",
    "        y = np.sin(x/6*np.pi) + np.random.normal(0, 0.02, size=x.shape)\n",
    "        error = np.random.normal(0.1, 0.02, size=y.shape)\n",
    "        return x, y, error"
   ]
  },
  {
   "cell_type": "code",
   "execution_count": 42,
   "metadata": {},
   "outputs": [],
   "source": [
    "def gen_uncertain_data():\n",
    "    x = np.linspace(0, 30, 100)\n",
    "    y = np.sin(x/6*np.pi) + np.random.normal(0, 0.02, size=x.shape)\n",
    "    error = np.random.normal(0.1, 0.02, size=y.shape)\n",
    "    return x, y, error"
   ]
  },
  {
   "cell_type": "code",
   "execution_count": 43,
   "metadata": {},
   "outputs": [],
   "source": [
    "x,y,error = gen_uncertain_data()"
   ]
  },
  {
   "cell_type": "code",
   "execution_count": 44,
   "metadata": {},
   "outputs": [
    {
     "data": {
      "image/png": "[encoded data removed]",
      "text/plain": [
       "<Figure size 660x440 with 1 Axes>"
      ]
     },
     "metadata": {
      "needs_background": "light"
     },
     "output_type": "display_data"
    }
   ],
   "source": [
    "%matplotlib inline\n",
    "fig = plt.figure(dpi=110)\n",
    "ax = fig.add_subplot()\n",
    "ax.fill_between(x,y-error,y+error, color='green')\n",
    "ax.plot(x,y,color='blue')\n",
    "plt.show()"
   ]
  },
  {
   "cell_type": "markdown",
   "metadata": {},
   "source": [
    "**(0.5 балла) Задача 9.** Bизуализируйте соотношение различных издательств, используя [pie plot](https://pandas.pydata.org/pandas-docs/stable/user_guide/visualization.html#visualization-pie).\n"
   ]
  },
  {
   "cell_type": "code",
   "execution_count": 45,
   "metadata": {},
   "outputs": [
    {
     "data": {
      "image/png": "[encoded data removed]",
      "text/plain": [
       "<Figure size 660x440 with 1 Axes>"
      ]
     },
     "metadata": {},
     "output_type": "display_data"
    }
   ],
   "source": [
    "fig1 = plt.figure(dpi=110)\n",
    "ax = tab.groupby('publication').title.count().plot.pie()\n",
    "fig1.add_axes(ax)\n",
    "ax.legend(bbox_to_anchor=(1,0,0,1))\n",
    "plt.show()"
   ]
  },
  {
   "cell_type": "markdown",
   "metadata": {},
   "source": [
    "**(0.5 балла) Задача 10.** Постройте распределение количества публикаций каждого издания по каждому году, используя [bar plot](https://pandas.pydata.org/pandas-docs/stable/user_guide/visualization.html#visualization-barplot). В какой год было больше всего публикаций?"
   ]
  },
  {
   "cell_type": "code",
   "execution_count": 46,
   "metadata": {},
   "outputs": [
    {
     "data": {
      "image/png": "[encoded data removed]",
      "text/plain": [
       "<Figure size 720x480 with 1 Axes>"
      ]
     },
     "metadata": {
      "needs_background": "light"
     },
     "output_type": "display_data"
    }
   ],
   "source": [
    "%matplotlib inline\n",
    "fig, ax = plt.subplots(dpi=120)\n",
    "tab.groupby(['year','publication']).count().title.unstack().plot.bar(ax=ax)\n",
    "plt.show()"
   ]
  },
  {
   "cell_type": "markdown",
   "metadata": {},
   "source": [
    "**(0.5 балла) Задача 11.** Изобразите распределение длин заголовков (*title*) статей для каждого издательства. Для этого можно воспользоваться, например, функцией [sns.violinplot](https://seaborn.pydata.org/generated/seaborn.violinplot.html)."
   ]
  },
  {
   "cell_type": "code",
   "execution_count": 47,
   "metadata": {},
   "outputs": [],
   "source": [
    "tab = tab.assign(title_length=lambda a: a.title.str.len())"
   ]
  },
  {
   "cell_type": "code",
   "execution_count": 48,
   "metadata": {},
   "outputs": [
    {
     "data": {
      "image/png": "[encoded data removed]",
      "text/plain": [
       "<Figure size 960x640 with 1 Axes>"
      ]
     },
     "metadata": {
      "needs_background": "light"
     },
     "output_type": "display_data"
    }
   ],
   "source": [
    "%matplotlib inline\n",
    "fig, ax = plt.subplots(dpi=160)\n",
    "sns.violinplot(x=\"publication\", y=\"title_length\", data=tab, ax=ax)\n",
    "plt.show()"
   ]
  },
  {
   "cell_type": "code",
   "execution_count": null,
   "metadata": {},
   "outputs": [],
   "source": []
  },
  {
   "cell_type": "code",
   "execution_count": null,
   "metadata": {},
   "outputs": [],
   "source": []
  }
 ],
 "metadata": {
  "kernelspec": {
   "display_name": "Python 3",
   "language": "python",
   "name": "python3"
  },
  "language_info": {
   "codemirror_mode": {
    "name": "ipython",
    "version": 3
   },
   "file_extension": ".py",
   "mimetype": "text/x-python",
   "name": "python",
   "nbconvert_exporter": "python",
   "pygments_lexer": "ipython3",
   "version": "3.8.5"
  }
 },
 "nbformat": 4,
 "nbformat_minor": 4
}
